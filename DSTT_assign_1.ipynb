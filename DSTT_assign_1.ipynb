{
  "nbformat": 4,
  "nbformat_minor": 0,
  "metadata": {
    "colab": {
      "provenance": [],
      "authorship_tag": "ABX9TyNRextS8fMDMCM9OCImlCod",
      "include_colab_link": true
    },
    "kernelspec": {
      "name": "python3",
      "display_name": "Python 3"
    },
    "language_info": {
      "name": "python"
    }
  },
  "cells": [
    {
      "cell_type": "markdown",
      "metadata": {
        "id": "view-in-github",
        "colab_type": "text"
      },
      "source": [
        "<a href=\"https://colab.research.google.com/github/Akshata-Rohokale/DSTT/blob/main/DSTT_assign_1.ipynb\" target=\"_parent\"><img src=\"https://colab.research.google.com/assets/colab-badge.svg\" alt=\"Open In Colab\"/></a>"
      ]
    },
    {
      "cell_type": "markdown",
      "source": [],
      "metadata": {
        "id": "SG437D7SO0IH"
      }
    },
    {
      "cell_type": "markdown",
      "source": [
        "```\n",
        "Name: Akshata Rohokale\n",
        "\n",
        "Reg No: 22-27-21\n",
        "```"
      ],
      "metadata": {
        "id": "RLQLd6-dQFsl"
      }
    },
    {
      "cell_type": "markdown",
      "source": [
        "Q1.Given an array A of N numbers (int), WAP which prints the multiplication of the\n",
        "elements of array A with the corresponding elements of the reverse of array A.\n",
        "If A = [1,2,3], then reverse of A will be [3,2,1] and the result should be [3,4,3].\n",
        "\n",
        "Input Format:\n",
        "\n",
        "The first line of the input contains a number N The second line of the input contains\n",
        "N numbers separated by a space. (after the last elements, there is no space)\n",
        "\n",
        "Output Format:\n",
        "\n",
        "Print the resultant array of elements separated by a space. (no space after the last\n",
        "element)"
      ],
      "metadata": {
        "id": "XokvD7eqO9mz"
      }
    },
    {
      "cell_type": "code",
      "source": [
        "n = int(input())\n",
        "A = [int(i) for i in input().split(\" \")]\n",
        "B = []\n",
        "for k in range(len(A)-1,-1,-1):\n",
        "    B.append(A[k])\n",
        "c=[]\n",
        "for j in range(0,len(A)):\n",
        "    a = A[j]*B[j]\n",
        "    c.append(a)\n",
        "print(*c)\n"
      ],
      "metadata": {
        "id": "6kJj0TzrPM-U",
        "colab": {
          "base_uri": "https://localhost:8080/"
        },
        "outputId": "59555dbb-c6a2-4fc4-db0f-f7e5c26b0572"
      },
      "execution_count": 1,
      "outputs": [
        {
          "output_type": "stream",
          "name": "stdout",
          "text": [
            "5\n",
            "1 2 3 4 5\n",
            "5 8 9 8 5\n"
          ]
        }
      ]
    },
    {
      "cell_type": "markdown",
      "source": [
        "Q2.Given a list of numbers (integers), find second maximum and second minimum in\n",
        "this list.\n",
        "\n",
        "Input Format:\n",
        "The first line contains numbers separated by a space.\n",
        "\n",
        "Output Format:\n",
        "Print the second maximum and second minimum separated by a space"
      ],
      "metadata": {
        "id": "Vv2t8OjgX6Co"
      }
    },
    {
      "cell_type": "code",
      "source": [
        "l = [int(i) for i in input().split(\" \")]\n",
        "a = max(l)\n",
        "b = min(l)\n",
        "l1 = [i for i in l if i!= a]\n",
        "l2 = [i for i in l if i!= b]\n",
        "a1 = max(l1)\n",
        "b1 = min(l2)\n",
        "print(a1,b1)"
      ],
      "metadata": {
        "colab": {
          "base_uri": "https://localhost:8080/"
        },
        "id": "hb1wT0VLYSx1",
        "outputId": "4a5d594c-1da6-47c8-dc49-b85ab95b9a10"
      },
      "execution_count": 2,
      "outputs": [
        {
          "output_type": "stream",
          "name": "stdout",
          "text": [
            "3 4 5 6\n",
            "5 4\n"
          ]
        }
      ]
    },
    {
      "cell_type": "markdown",
      "source": [
        "Q3.Given a list A of numbers (integers), you have to print those numbers which are not\n",
        "multiples of 5.\n",
        "\n",
        "Input Format:\n",
        "The first line contains the numbers of list A separated by a space.\n",
        "\n",
        "Output Format:\n",
        "Print the numbers in a single line separated by a space which are not multiples of 5.\n",
        "\n",
        "Example:\n",
        "\n",
        "Input:\n",
        "1 2 3 4 5 6 5\n",
        "\n",
        "Output:\n",
        "1 2 3 4 6\n",
        "\n",
        "Explanation:\n",
        "Here the elements of A are 1,2,3,4,5,6,5 and since 5 is the multiple of 5, after removing\n",
        "them the list becomes 1,2,3,4,6."
      ],
      "metadata": {
        "id": "F6jG3pteYZj_"
      }
    },
    {
      "cell_type": "code",
      "source": [
        "l = [int(i) for i in input().split(\" \")]\n",
        "z = [k for k in l if k%5 != 0]\n",
        "print(*z)"
      ],
      "metadata": {
        "colab": {
          "base_uri": "https://localhost:8080/"
        },
        "id": "QGwaop1-ZBzF",
        "outputId": "22e4f859-0cd2-49ac-9dc9-292fddfbd370"
      },
      "execution_count": 3,
      "outputs": [
        {
          "output_type": "stream",
          "name": "stdout",
          "text": [
            "2 5 6 4 10\n",
            "2 6 4\n"
          ]
        }
      ]
    },
    {
      "cell_type": "markdown",
      "source": [
        "Q4.You are given a number A which contains only digits 0’s and 1’s. Your task is to\n",
        "make all digits same by just flipping one digit (i.e. 0 to 1 or 1 to 0 ) only. If it is\n",
        "possible to make all the digits same by just flipping one digit then print ’YES’ else\n",
        "print ’NO’.\n",
        "\n",
        "Input Format:\n",
        "The first line contains a number made up of 0’s and 1’s.\n",
        "\n",
        "Output Format:\n",
        "Print ’YES’ or ’NO’ accordingly without quotes.\n",
        "\n",
        "Example:\n",
        "\n",
        "Input:\n",
        "101\n",
        "\n",
        "Output:\n",
        "YES\n",
        "\n",
        "Explanation:\n",
        "If you flip the middle digit from 0 to 1 then all the digits will become same. Hence\n",
        "output is YES."
      ],
      "metadata": {
        "id": "rpmISRuZZRoY"
      }
    },
    {
      "cell_type": "code",
      "source": [
        "n = input()\n",
        "a = n.count(\"1\")\n",
        "b = n.count(\"0\")\n",
        "if a == 1 or b==1:\n",
        "    print(\"YES\")\n",
        "else :\n",
        "    print(\"NO\")"
      ],
      "metadata": {
        "colab": {
          "base_uri": "https://localhost:8080/"
        },
        "id": "rAYdmEuKZz7G",
        "outputId": "21202d12-8021-4af6-ced5-5f77847a2d36"
      },
      "execution_count": 4,
      "outputs": [
        {
          "output_type": "stream",
          "name": "stdout",
          "text": [
            "101010\n",
            "NO\n"
          ]
        }
      ]
    },
    {
      "cell_type": "markdown",
      "source": [
        "Q5.Given an integer number n, you have to print the factorial of this number.\n",
        "\n",
        "Input Format:\n",
        "A number n.\n",
        "\n",
        "Output Format:\n",
        "Print the factorial of n.\n",
        "\n",
        "Example:\n",
        "\n",
        "Input:\n",
        "4\n",
        "\n",
        "Output:\n",
        "24"
      ],
      "metadata": {
        "id": "xX2WCbL6aC6a"
      }
    },
    {
      "cell_type": "code",
      "source": [
        "n = int(input())\n",
        "def fac(n):\n",
        "    if n<0 :\n",
        "        return 'Factorial not possible'\n",
        "    if n in [0, 1]:\n",
        "        return 1\n",
        "    else :\n",
        "        return n*fac(n-1)\n",
        "print(fac(n))"
      ],
      "metadata": {
        "colab": {
          "base_uri": "https://localhost:8080/"
        },
        "id": "ohDn-LiXaUlL",
        "outputId": "624cece2-8836-4c31-fd8b-e31452bb476b"
      },
      "execution_count": 5,
      "outputs": [
        {
          "output_type": "stream",
          "name": "stdout",
          "text": [
            "5\n",
            "120\n"
          ]
        }
      ]
    },
    {
      "cell_type": "markdown",
      "source": [
        "Q6.Write a program, which will find all such numbers between m and n (both included)\n",
        "such that each digit of the number is an even number.\n",
        "\n",
        "Input Format:\n",
        "The first line contains value m and n separated by a comma.\n",
        "\n",
        "Output Format:\n",
        "The numbers obtained should be printed in a comma-separated sequence on a single\n",
        "line.\n",
        "\n",
        "Constraints:\n",
        "1000<=m<=9000\n",
        "1000<=n<=9000"
      ],
      "metadata": {
        "id": "a1ntN0O1ahps"
      }
    },
    {
      "cell_type": "code",
      "source": [
        "l = [int(i) for i in input().split(\" \")]\n",
        "x = [\"0\", \"2\", \"4\", \"6\", \"8\"]\n",
        "d = []\n",
        "for a in range(l[0], l[1]+1):\n",
        "    b = str(a)\n",
        "    for i in range (len(b)):\n",
        "        if b[i] in x :\n",
        "            c = 1\n",
        "        else :\n",
        "            c= 0\n",
        "        if c ==0:\n",
        "            break\n",
        "    if c ==1:\n",
        "        d.append(a)\n",
        "print(*d, sep=\",\")  "
      ],
      "metadata": {
        "colab": {
          "base_uri": "https://localhost:8080/"
        },
        "id": "pxpGmjzza1Ft",
        "outputId": "e4cac0be-5d49-42ae-a9c9-d0b1919f76de"
      },
      "execution_count": 6,
      "outputs": [
        {
          "output_type": "stream",
          "name": "stdout",
          "text": [
            "435 567\n",
            "440,442,444,446,448,460,462,464,466,468,480,482,484,486,488\n"
          ]
        }
      ]
    }
  ]
}